{
 "cells": [
  {
   "cell_type": "markdown",
   "id": "c1a1af85-06fa-45c2-9e5e-e2d76816ba74",
   "metadata": {},
   "source": [
    "# Day 1 Basics of Python"
   ]
  },
  {
   "cell_type": "code",
   "execution_count": 2,
   "id": "bc855292-2ddd-445d-b4d3-4e589c0b584a",
   "metadata": {},
   "outputs": [
    {
     "name": "stdout",
     "output_type": "stream",
     "text": [
      "Hello World\n"
     ]
    }
   ],
   "source": [
    "print(\"Hello World\")"
   ]
  },
  {
   "cell_type": "markdown",
   "id": "e52f0446-dece-4e36-a165-75d12af90de6",
   "metadata": {},
   "source": [
    "# Varables"
   ]
  },
  {
   "cell_type": "code",
   "execution_count": 30,
   "id": "7c480444-acaf-4d2c-af91-99ef30b13600",
   "metadata": {},
   "outputs": [
    {
     "name": "stdout",
     "output_type": "stream",
     "text": [
      "Addition of  22 & 5 = 27\n",
      "Substraction of  22 & 5 = 17\n",
      "Multiplication of  22 & 5 = 110\n",
      "Division of  22 & 5 = 4.4\n",
      "Division of  22 & 5 = 4\n",
      "Reminder of  22 & 5 = 2\n",
      "<class 'int'>\n",
      "<class 'float'>\n"
     ]
    }
   ],
   "source": [
    "x=22\n",
    "y=5\n",
    "print(\"Addition of \",x,\"&\",y,\"=\",x+y)\n",
    "print(\"Substraction of \",x,\"&\",y,\"=\",x-y)\n",
    "print(\"Multiplication of \",x,\"&\",y,\"=\",x*y)\n",
    "print(\"Division of \",x,\"&\",y,\"=\",x/y)\n",
    "print(\"Division of \",x,\"&\",y,\"=\",x//y)\n",
    "print(\"Reminder of \",x,\"&\",y,\"=\",x%y)\n",
    "print(type(x))\n",
    "x=2.2\n",
    "print(type(x))\n",
    "\n",
    "\n",
    "a,b,c,d=1,2,3,4"
   ]
  },
  {
   "cell_type": "code",
   "execution_count": 32,
   "id": "7bfbd687-6188-4099-99ca-7c28f3938357",
   "metadata": {},
   "outputs": [
    {
     "name": "stdout",
     "output_type": "stream",
     "text": [
      "Variable   Type     Data/Info\n",
      "-----------------------------\n",
      "a          int      5\n",
      "b          int      2\n",
      "c          int      3\n",
      "d          int      4\n",
      "str1       str      Hello\n",
      "str2       str      World\n",
      "str3       str      5\n",
      "x          float    2.2\n",
      "y          int      5\n",
      "z          int      5\n"
     ]
    }
   ],
   "source": [
    "str1=\"Hello\"\n",
    "str2=\"World\"\n",
    "str3=\"5\"\n",
    "z=5\n",
    "str1+\" \"+str2\n",
    "%whos"
   ]
  },
  {
   "cell_type": "markdown",
   "id": "cc2a7927-bd59-4608-8df1-91dcdc0299b0",
   "metadata": {},
   "source": [
    "# Bool\n"
   ]
  },
  {
   "cell_type": "code",
   "execution_count": 47,
   "id": "39cbe477-5cf4-4d63-9d3a-887f9f3b33d6",
   "metadata": {},
   "outputs": [
    {
     "name": "stdout",
     "output_type": "stream",
     "text": [
      "<class 'bool'> <class 'bool'>\n",
      "False\n",
      "True\n",
      "False\n",
      "True\n",
      "True\n",
      "False\n",
      "<class 'bool'>\n",
      "False\n"
     ]
    }
   ],
   "source": [
    "a=True\n",
    "b=False\n",
    "c=5\n",
    "d=7\n",
    "\n",
    "print(type(a),type(b))\n",
    "print(a and b)\n",
    "print(a or b)\n",
    "print(a==b)\n",
    "print(a!=b)\n",
    "print(a>b)\n",
    "print(a<b)\n",
    "\n",
    "z=(a==b)and(a!=b)or(c>d) and(c<d)\n",
    "print(type(z))\n",
    "print(z)"
   ]
  },
  {
   "cell_type": "code",
   "execution_count": 55,
   "id": "a2264af2-2244-4958-b365-a25d2a30a152",
   "metadata": {},
   "outputs": [
    {
     "data": {
      "text/plain": [
       "True"
      ]
     },
     "execution_count": 55,
     "metadata": {},
     "output_type": "execute_result"
    }
   ],
   "source": [
    "True and True\n"
   ]
  },
  {
   "cell_type": "code",
   "execution_count": 53,
   "id": "ea385f31-883f-4061-ac51-bfa2ce7d7ff6",
   "metadata": {},
   "outputs": [
    {
     "data": {
      "text/plain": [
       "False"
      ]
     },
     "execution_count": 53,
     "metadata": {},
     "output_type": "execute_result"
    }
   ],
   "source": [
    "False and False"
   ]
  },
  {
   "cell_type": "code",
   "execution_count": 54,
   "id": "c8cf3cf5-93eb-4333-ad6a-9676e5e80797",
   "metadata": {},
   "outputs": [
    {
     "data": {
      "text/plain": [
       "False"
      ]
     },
     "execution_count": 54,
     "metadata": {},
     "output_type": "execute_result"
    }
   ],
   "source": [
    "False and True"
   ]
  },
  {
   "cell_type": "code",
   "execution_count": 56,
   "id": "d0908b8a-3985-4acb-a644-74bccd02bf76",
   "metadata": {},
   "outputs": [
    {
     "data": {
      "text/plain": [
       "True"
      ]
     },
     "execution_count": 56,
     "metadata": {},
     "output_type": "execute_result"
    }
   ],
   "source": [
    "True or False"
   ]
  },
  {
   "cell_type": "code",
   "execution_count": 57,
   "id": "f26b07fb-ae29-4d68-babb-f071fd486592",
   "metadata": {},
   "outputs": [
    {
     "data": {
      "text/plain": [
       "True"
      ]
     },
     "execution_count": 57,
     "metadata": {},
     "output_type": "execute_result"
    }
   ],
   "source": [
    "True or False"
   ]
  },
  {
   "cell_type": "code",
   "execution_count": 58,
   "id": "fbffc458-247a-4e0e-a99a-45dd648dff15",
   "metadata": {},
   "outputs": [
    {
     "data": {
      "text/plain": [
       "False"
      ]
     },
     "execution_count": 58,
     "metadata": {},
     "output_type": "execute_result"
    }
   ],
   "source": [
    "False or False"
   ]
  },
  {
   "cell_type": "code",
   "execution_count": 59,
   "id": "3f2bd624-f824-4ea7-ba14-43393ef13acc",
   "metadata": {},
   "outputs": [
    {
     "name": "stdout",
     "output_type": "stream",
     "text": [
      "False\n"
     ]
    }
   ],
   "source": [
    "#HW\n",
    "\n",
    "print((not(2!=3)and True)or(False and True))"
   ]
  },
  {
   "cell_type": "code",
   "execution_count": 65,
   "id": "ffe5ac00-04dd-495d-aac3-670541ea6e5c",
   "metadata": {},
   "outputs": [
    {
     "name": "stdout",
     "output_type": "stream",
     "text": [
      "5\n",
      "22\n",
      "3.568\n"
     ]
    }
   ],
   "source": [
    "print(round(4.5556562))\n",
    "print(round(111/5))\n",
    "print(round(3.56765432,3))"
   ]
  },
  {
   "cell_type": "code",
   "execution_count": 73,
   "id": "38eb7fac-d1dd-426f-9aeb-0fdc55a61b03",
   "metadata": {},
   "outputs": [
    {
     "name": "stdout",
     "output_type": "stream",
     "text": [
      "True\n",
      "False\n"
     ]
    },
    {
     "data": {
      "text/plain": [
       "True"
      ]
     },
     "execution_count": 73,
     "metadata": {},
     "output_type": "execute_result"
    }
   ],
   "source": [
    "print(isinstance(3,int))   #checks if 3 is a int or not\n",
    "\n",
    "print(isinstance(55.5,int))\n",
    "\n",
    "isinstance(55.5,(float,int))"
   ]
  },
  {
   "cell_type": "code",
   "execution_count": 74,
   "id": "e0592611-1508-4f46-9988-59f447649327",
   "metadata": {},
   "outputs": [
    {
     "data": {
      "text/plain": [
       "8"
      ]
     },
     "execution_count": 74,
     "metadata": {},
     "output_type": "execute_result"
    }
   ],
   "source": [
    "pow(2,3)"
   ]
  },
  {
   "cell_type": "code",
   "execution_count": 85,
   "id": "ebd6dc0c-7523-40ae-a283-7e026b2fa947",
   "metadata": {},
   "outputs": [
    {
     "name": "stdin",
     "output_type": "stream",
     "text": [
      "Enter a Value: 55\n"
     ]
    },
    {
     "name": "stdout",
     "output_type": "stream",
     "text": [
      "33\n"
     ]
    }
   ],
   "source": [
    "x=int(input(\"Enter a Value:\"))\n",
    "type(x)\n",
    "print(x-22)"
   ]
  },
  {
   "cell_type": "code",
   "execution_count": 88,
   "id": "c5018aba-3901-4d18-833b-e9fcbec15282",
   "metadata": {},
   "outputs": [
    {
     "name": "stdin",
     "output_type": "stream",
     "text": [
      "Enter a Float: 55\n"
     ]
    },
    {
     "data": {
      "text/plain": [
       "float"
      ]
     },
     "execution_count": 88,
     "metadata": {},
     "output_type": "execute_result"
    }
   ],
   "source": [
    "y=float(input(\"Enter a Float:\"))\n",
    "type(y)"
   ]
  },
  {
   "cell_type": "code",
   "execution_count": 89,
   "id": "8c075ab1-173c-4a80-9a52-65e4c183793c",
   "metadata": {},
   "outputs": [
    {
     "data": {
      "text/plain": [
       "\u001b[1;31mSignature:\u001b[0m \u001b[0mprint\u001b[0m\u001b[1;33m(\u001b[0m\u001b[1;33m*\u001b[0m\u001b[0margs\u001b[0m\u001b[1;33m,\u001b[0m \u001b[0msep\u001b[0m\u001b[1;33m=\u001b[0m\u001b[1;34m' '\u001b[0m\u001b[1;33m,\u001b[0m \u001b[0mend\u001b[0m\u001b[1;33m=\u001b[0m\u001b[1;34m'\\n'\u001b[0m\u001b[1;33m,\u001b[0m \u001b[0mfile\u001b[0m\u001b[1;33m=\u001b[0m\u001b[1;32mNone\u001b[0m\u001b[1;33m,\u001b[0m \u001b[0mflush\u001b[0m\u001b[1;33m=\u001b[0m\u001b[1;32mFalse\u001b[0m\u001b[1;33m)\u001b[0m\u001b[1;33m\u001b[0m\u001b[1;33m\u001b[0m\u001b[0m\n",
       "\u001b[1;31mDocstring:\u001b[0m\n",
       "Prints the values to a stream, or to sys.stdout by default.\n",
       "\n",
       "sep\n",
       "  string inserted between values, default a space.\n",
       "end\n",
       "  string appended after the last value, default a newline.\n",
       "file\n",
       "  a file-like object (stream); defaults to the current sys.stdout.\n",
       "flush\n",
       "  whether to forcibly flush the stream.\n",
       "\u001b[1;31mType:\u001b[0m      builtin_function_or_method"
      ]
     },
     "metadata": {},
     "output_type": "display_data"
    }
   ],
   "source": [
    "print?"
   ]
  },
  {
   "cell_type": "markdown",
   "id": "76957c9d-1cc6-4fa2-8972-2faf002e916b",
   "metadata": {},
   "source": [
    "# contrl Flow"
   ]
  },
  {
   "cell_type": "code",
   "execution_count": 92,
   "id": "bbb5e839-5400-4450-b46e-1bdf9c6dd5e4",
   "metadata": {},
   "outputs": [
    {
     "name": "stdin",
     "output_type": "stream",
     "text": [
      "Enter a: 44\n",
      "Enter b: 5\n"
     ]
    },
    {
     "name": "stdout",
     "output_type": "stream",
     "text": [
      "44 a is greater than b\n"
     ]
    }
   ],
   "source": [
    "a= int(input(\"Enter a:\"))\n",
    "b= int(input(\"Enter b:\"))\n",
    "\n",
    "if a>b:\n",
    "    print(a,\"a is greater than b\")\n",
    "else:\n",
    "    print(b,\"b is greater than a\")"
   ]
  },
  {
   "cell_type": "code",
   "execution_count": null,
   "id": "ed92f257-0827-4475-bb9a-182ceed4c2fb",
   "metadata": {},
   "outputs": [],
   "source": []
  }
 ],
 "metadata": {
  "kernelspec": {
   "display_name": "Python 3 (ipykernel)",
   "language": "python",
   "name": "python3"
  },
  "language_info": {
   "codemirror_mode": {
    "name": "ipython",
    "version": 3
   },
   "file_extension": ".py",
   "mimetype": "text/x-python",
   "name": "python",
   "nbconvert_exporter": "python",
   "pygments_lexer": "ipython3",
   "version": "3.12.4"
  }
 },
 "nbformat": 4,
 "nbformat_minor": 5
}
