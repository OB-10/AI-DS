{
 "cells": [
  {
   "cell_type": "markdown",
   "id": "c1a1af85-06fa-45c2-9e5e-e2d76816ba74",
   "metadata": {},
   "source": [
    "# Day 1 Basics of Python"
   ]
  },
  {
   "cell_type": "code",
   "execution_count": 1,
   "id": "bc855292-2ddd-445d-b4d3-4e589c0b584a",
   "metadata": {},
   "outputs": [
    {
     "name": "stdout",
     "output_type": "stream",
     "text": [
      "Hello World\n"
     ]
    }
   ],
   "source": [
    "print(\"Hello World\")"
   ]
  },
  {
   "cell_type": "markdown",
   "id": "e52f0446-dece-4e36-a165-75d12af90de6",
   "metadata": {},
   "source": [
    "# Varables"
   ]
  },
  {
   "cell_type": "code",
   "execution_count": 2,
   "id": "7c480444-acaf-4d2c-af91-99ef30b13600",
   "metadata": {},
   "outputs": [
    {
     "name": "stdout",
     "output_type": "stream",
     "text": [
      "Addition of  22 & 5 = 27\n",
      "Substraction of  22 & 5 = 17\n",
      "Multiplication of  22 & 5 = 110\n",
      "Division of  22 & 5 = 4.4\n",
      "Division of  22 & 5 = 4\n",
      "Reminder of  22 & 5 = 2\n",
      "<class 'int'>\n",
      "<class 'float'>\n"
     ]
    }
   ],
   "source": [
    "x=22\n",
    "y=5\n",
    "print(\"Addition of \",x,\"&\",y,\"=\",x+y)\n",
    "print(\"Substraction of \",x,\"&\",y,\"=\",x-y)\n",
    "print(\"Multiplication of \",x,\"&\",y,\"=\",x*y)\n",
    "print(\"Division of \",x,\"&\",y,\"=\",x/y)\n",
    "print(\"Division of \",x,\"&\",y,\"=\",x//y)\n",
    "print(\"Reminder of \",x,\"&\",y,\"=\",x%y)\n",
    "print(type(x))\n",
    "x=2.2\n",
    "print(type(x))\n",
    "\n",
    "\n",
    "a,b,c,d=1,2,3,4"
   ]
  },
  {
   "cell_type": "code",
   "execution_count": 3,
   "id": "7bfbd687-6188-4099-99ca-7c28f3938357",
   "metadata": {},
   "outputs": [
    {
     "name": "stdout",
     "output_type": "stream",
     "text": [
      "Variable   Type     Data/Info\n",
      "-----------------------------\n",
      "a          int      1\n",
      "b          int      2\n",
      "c          int      3\n",
      "d          int      4\n",
      "str1       str      Hello\n",
      "str2       str      World\n",
      "str3       str      5\n",
      "x          float    2.2\n",
      "y          int      5\n",
      "z          int      5\n"
     ]
    }
   ],
   "source": [
    "str1=\"Hello\"\n",
    "str2=\"World\"\n",
    "str3=\"5\"\n",
    "z=5\n",
    "str1+\" \"+str2\n",
    "%whos"
   ]
  },
  {
   "cell_type": "markdown",
   "id": "cc2a7927-bd59-4608-8df1-91dcdc0299b0",
   "metadata": {},
   "source": [
    "# Bool\n"
   ]
  },
  {
   "cell_type": "code",
   "execution_count": 4,
   "id": "39cbe477-5cf4-4d63-9d3a-887f9f3b33d6",
   "metadata": {},
   "outputs": [
    {
     "name": "stdout",
     "output_type": "stream",
     "text": [
      "<class 'bool'> <class 'bool'>\n",
      "False\n",
      "True\n",
      "False\n",
      "True\n",
      "True\n",
      "False\n",
      "<class 'bool'>\n",
      "False\n"
     ]
    }
   ],
   "source": [
    "a=True\n",
    "b=False\n",
    "c=5\n",
    "d=7\n",
    "\n",
    "print(type(a),type(b))\n",
    "print(a and b)\n",
    "print(a or b)\n",
    "print(a==b)\n",
    "print(a!=b)\n",
    "print(a>b)\n",
    "print(a<b)\n",
    "\n",
    "z=(a==b)and(a!=b)or(c>d) and(c<d)\n",
    "print(type(z))\n",
    "print(z)"
   ]
  },
  {
   "cell_type": "code",
   "execution_count": 5,
   "id": "a2264af2-2244-4958-b365-a25d2a30a152",
   "metadata": {},
   "outputs": [
    {
     "data": {
      "text/plain": [
       "True"
      ]
     },
     "execution_count": 5,
     "metadata": {},
     "output_type": "execute_result"
    }
   ],
   "source": [
    "True and True\n"
   ]
  },
  {
   "cell_type": "code",
   "execution_count": 6,
   "id": "ea385f31-883f-4061-ac51-bfa2ce7d7ff6",
   "metadata": {},
   "outputs": [
    {
     "data": {
      "text/plain": [
       "False"
      ]
     },
     "execution_count": 6,
     "metadata": {},
     "output_type": "execute_result"
    }
   ],
   "source": [
    "False and False"
   ]
  },
  {
   "cell_type": "code",
   "execution_count": 7,
   "id": "c8cf3cf5-93eb-4333-ad6a-9676e5e80797",
   "metadata": {},
   "outputs": [
    {
     "data": {
      "text/plain": [
       "False"
      ]
     },
     "execution_count": 7,
     "metadata": {},
     "output_type": "execute_result"
    }
   ],
   "source": [
    "False and True"
   ]
  },
  {
   "cell_type": "code",
   "execution_count": 8,
   "id": "d0908b8a-3985-4acb-a644-74bccd02bf76",
   "metadata": {},
   "outputs": [
    {
     "data": {
      "text/plain": [
       "True"
      ]
     },
     "execution_count": 8,
     "metadata": {},
     "output_type": "execute_result"
    }
   ],
   "source": [
    "True or False"
   ]
  },
  {
   "cell_type": "code",
   "execution_count": 9,
   "id": "f26b07fb-ae29-4d68-babb-f071fd486592",
   "metadata": {},
   "outputs": [
    {
     "data": {
      "text/plain": [
       "True"
      ]
     },
     "execution_count": 9,
     "metadata": {},
     "output_type": "execute_result"
    }
   ],
   "source": [
    "True or False"
   ]
  },
  {
   "cell_type": "code",
   "execution_count": 10,
   "id": "fbffc458-247a-4e0e-a99a-45dd648dff15",
   "metadata": {},
   "outputs": [
    {
     "data": {
      "text/plain": [
       "False"
      ]
     },
     "execution_count": 10,
     "metadata": {},
     "output_type": "execute_result"
    }
   ],
   "source": [
    "False or False"
   ]
  },
  {
   "cell_type": "code",
   "execution_count": 11,
   "id": "3f2bd624-f824-4ea7-ba14-43393ef13acc",
   "metadata": {},
   "outputs": [
    {
     "name": "stdout",
     "output_type": "stream",
     "text": [
      "False\n"
     ]
    }
   ],
   "source": [
    "#HW\n",
    "\n",
    "print((not(2!=3)and True)or(False and True))"
   ]
  },
  {
   "cell_type": "code",
   "execution_count": 12,
   "id": "ffe5ac00-04dd-495d-aac3-670541ea6e5c",
   "metadata": {},
   "outputs": [
    {
     "name": "stdout",
     "output_type": "stream",
     "text": [
      "5\n",
      "22\n",
      "3.568\n"
     ]
    }
   ],
   "source": [
    "print(round(4.5556562))\n",
    "print(round(111/5))\n",
    "print(round(3.56765432,3))"
   ]
  },
  {
   "cell_type": "code",
   "execution_count": 13,
   "id": "38eb7fac-d1dd-426f-9aeb-0fdc55a61b03",
   "metadata": {},
   "outputs": [
    {
     "name": "stdout",
     "output_type": "stream",
     "text": [
      "True\n",
      "False\n"
     ]
    },
    {
     "data": {
      "text/plain": [
       "True"
      ]
     },
     "execution_count": 13,
     "metadata": {},
     "output_type": "execute_result"
    }
   ],
   "source": [
    "print(isinstance(3,int))   #checks if 3 is a int or not\n",
    "\n",
    "print(isinstance(55.5,int))\n",
    "\n",
    "isinstance(55.5,(float,int))"
   ]
  },
  {
   "cell_type": "code",
   "execution_count": 14,
   "id": "e0592611-1508-4f46-9988-59f447649327",
   "metadata": {},
   "outputs": [
    {
     "data": {
      "text/plain": [
       "8"
      ]
     },
     "execution_count": 14,
     "metadata": {},
     "output_type": "execute_result"
    }
   ],
   "source": [
    "pow(2,3)"
   ]
  },
  {
   "cell_type": "code",
   "execution_count": 16,
   "id": "ebd6dc0c-7523-40ae-a283-7e026b2fa947",
   "metadata": {},
   "outputs": [
    {
     "name": "stdin",
     "output_type": "stream",
     "text": [
      "Enter a Value: 55\n"
     ]
    },
    {
     "name": "stdout",
     "output_type": "stream",
     "text": [
      "33\n"
     ]
    }
   ],
   "source": [
    "x=int(input(\"Enter a Value:\"))\n",
    "type(x)\n",
    "print(x-22)"
   ]
  },
  {
   "cell_type": "code",
   "execution_count": 17,
   "id": "c5018aba-3901-4d18-833b-e9fcbec15282",
   "metadata": {},
   "outputs": [
    {
     "name": "stdin",
     "output_type": "stream",
     "text": [
      "Enter a Float: 55\n"
     ]
    },
    {
     "data": {
      "text/plain": [
       "float"
      ]
     },
     "execution_count": 17,
     "metadata": {},
     "output_type": "execute_result"
    }
   ],
   "source": [
    "y=float(input(\"Enter a Float:\"))\n",
    "type(y)"
   ]
  },
  {
   "cell_type": "code",
   "execution_count": 18,
   "id": "8c075ab1-173c-4a80-9a52-65e4c183793c",
   "metadata": {},
   "outputs": [
    {
     "data": {
      "text/plain": [
       "\u001b[1;31mSignature:\u001b[0m \u001b[0mprint\u001b[0m\u001b[1;33m(\u001b[0m\u001b[1;33m*\u001b[0m\u001b[0margs\u001b[0m\u001b[1;33m,\u001b[0m \u001b[0msep\u001b[0m\u001b[1;33m=\u001b[0m\u001b[1;34m' '\u001b[0m\u001b[1;33m,\u001b[0m \u001b[0mend\u001b[0m\u001b[1;33m=\u001b[0m\u001b[1;34m'\\n'\u001b[0m\u001b[1;33m,\u001b[0m \u001b[0mfile\u001b[0m\u001b[1;33m=\u001b[0m\u001b[1;32mNone\u001b[0m\u001b[1;33m,\u001b[0m \u001b[0mflush\u001b[0m\u001b[1;33m=\u001b[0m\u001b[1;32mFalse\u001b[0m\u001b[1;33m)\u001b[0m\u001b[1;33m\u001b[0m\u001b[1;33m\u001b[0m\u001b[0m\n",
       "\u001b[1;31mDocstring:\u001b[0m\n",
       "Prints the values to a stream, or to sys.stdout by default.\n",
       "\n",
       "sep\n",
       "  string inserted between values, default a space.\n",
       "end\n",
       "  string appended after the last value, default a newline.\n",
       "file\n",
       "  a file-like object (stream); defaults to the current sys.stdout.\n",
       "flush\n",
       "  whether to forcibly flush the stream.\n",
       "\u001b[1;31mType:\u001b[0m      builtin_function_or_method"
      ]
     },
     "metadata": {},
     "output_type": "display_data"
    }
   ],
   "source": [
    "print?"
   ]
  },
  {
   "cell_type": "markdown",
   "id": "76957c9d-1cc6-4fa2-8972-2faf002e916b",
   "metadata": {},
   "source": [
    "# contrl Flow"
   ]
  },
  {
   "cell_type": "code",
   "execution_count": 19,
   "id": "bbb5e839-5400-4450-b46e-1bdf9c6dd5e4",
   "metadata": {},
   "outputs": [
    {
     "name": "stdin",
     "output_type": "stream",
     "text": [
      "Enter a: 55\n",
      "Enter b: 2\n"
     ]
    },
    {
     "name": "stdout",
     "output_type": "stream",
     "text": [
      "55 a is greater than b\n"
     ]
    }
   ],
   "source": [
    "a= int(input(\"Enter a:\"))\n",
    "b= int(input(\"Enter b:\"))\n",
    "\n",
    "if a>b:\n",
    "    print(a,\"a is greater than b\")\n",
    "else:\n",
    "    print(b,\"b is greater than a\")\n"
   ]
  },
  {
   "cell_type": "code",
   "execution_count": 20,
   "id": "8585b649-1953-4afa-aa1f-e4db5e623e23",
   "metadata": {},
   "outputs": [
    {
     "name": "stdin",
     "output_type": "stream",
     "text": [
      "a: 55\n",
      "b: 55\n"
     ]
    },
    {
     "name": "stdout",
     "output_type": "stream",
     "text": [
      "a and b are equal\n"
     ]
    }
   ],
   "source": [
    "a=int(input(\"a:\"))\n",
    "b=int(input(\"b:\"))\n",
    "if a>b:\n",
    "    print(a)\n",
    "    print(\"a is greater than b\")\n",
    "elif b<a:\n",
    "    print(b)\n",
    "    print(\"b is greater\")\n",
    "else:\n",
    "    print(\"a and b are equal\")"
   ]
  },
  {
   "cell_type": "code",
   "execution_count": 22,
   "id": "4da73739-dc68-4db5-a06e-9fb77e871e7c",
   "metadata": {},
   "outputs": [
    {
     "name": "stdin",
     "output_type": "stream",
     "text": [
      "Enter a no. 5\n"
     ]
    },
    {
     "name": "stdout",
     "output_type": "stream",
     "text": [
      "A is not greater than 10\n"
     ]
    }
   ],
   "source": [
    "#             nested if\n",
    "\n",
    "a=int(input(\"Enter a no.\"))\n",
    "\n",
    "if a>10:\n",
    "    print(\"A is greater than 10\")\n",
    "    if a>20:\n",
    "        print(\"it is also greater than 20\")\n",
    "    elif a==20:\n",
    "        print(\"A is equal to 20\")\n",
    "    else :\n",
    "        print(\"A is not greater than 20\")\n",
    "else :\n",
    "    print(\"A is not greater than 10\")"
   ]
  },
  {
   "cell_type": "code",
   "execution_count": 23,
   "id": "dedc3def-7f49-447c-be55-e1f1ff58b7a1",
   "metadata": {},
   "outputs": [
    {
     "name": "stdin",
     "output_type": "stream",
     "text": [
      "Enter a Real Value 55\n"
     ]
    },
    {
     "name": "stdout",
     "output_type": "stream",
     "text": [
      "55\n"
     ]
    }
   ],
   "source": [
    "x=float(input(\"Enter a Real Value\"))\n",
    "y=round(x)\n",
    "if x>0:\n",
    "    if y>x:\n",
    "        print(y-1)\n",
    "    else:\n",
    "        print(y)\n",
    "else:\n",
    "    if x>y:\n",
    "        print(y+1)\n",
    "    else:\n",
    "        print(y)\n"
   ]
  },
  {
   "cell_type": "markdown",
   "id": "19fcadf5-19a2-4a74-a96f-92615e510375",
   "metadata": {},
   "source": [
    "# loops"
   ]
  },
  {
   "cell_type": "code",
   "execution_count": 1,
   "id": "57243ed9-8ea3-47e3-b918-66e04ba3b5a5",
   "metadata": {},
   "outputs": [
    {
     "name": "stdin",
     "output_type": "stream",
     "text": [
      "Enter a no. 5\n"
     ]
    },
    {
     "name": "stdout",
     "output_type": "stream",
     "text": [
      "1\n",
      "2\n",
      "3\n",
      "4\n",
      "5\n",
      "done\n"
     ]
    }
   ],
   "source": [
    "#             while loop is used when u want to print any thing till the sertain condition is met \n",
    "n=int(input(\"Enter a no.\"))\n",
    "i=1\n",
    "while i<=n:\n",
    "    print(i)\n",
    "    i+=1\n",
    "print(\"done\")"
   ]
  },
  {
   "cell_type": "code",
   "execution_count": 4,
   "id": "70914732-b33c-4059-9380-eb956cd5ba0f",
   "metadata": {},
   "outputs": [
    {
     "name": "stdin",
     "output_type": "stream",
     "text": [
      "Enter a number 20\n"
     ]
    },
    {
     "name": "stdout",
     "output_type": "stream",
     "text": [
      "2\n",
      "4\n",
      "6\n",
      "8\n",
      "10\n",
      "12\n",
      "14\n",
      "16\n",
      "18\n",
      "20\n",
      "Done\n"
     ]
    }
   ],
   "source": [
    "n=int(input(\"Enter a number\"))\n",
    "i=1\n",
    "while n>=i:\n",
    "    if i%2==0:\n",
    "        print(i)\n",
    "    else :\n",
    "        pass\n",
    "    i+=1\n",
    "print(\"Done\")"
   ]
  },
  {
   "cell_type": "code",
   "execution_count": 11,
   "id": "cd551bbc-29e6-4623-adb2-6e47dbc94f05",
   "metadata": {},
   "outputs": [
    {
     "name": "stdout",
     "output_type": "stream",
     "text": [
      "2 i am inside a loop\n",
      "3 i am inside a loop\n",
      "4 i am inside a loop\n",
      "5 i am inside a loop\n",
      "6 i am inside a loop\n",
      "7 i am inside a loop\n",
      "8 i am inside a loop\n",
      "9 i am inside a loop\n",
      "10 i am inside a loop\n",
      "11 i am inside a loop\n",
      "12 i am inside a loop\n",
      "13 i am inside a loop\n",
      "14 i am inside a loop\n",
      "15 i am inside a loop\n",
      "16 i am inside a loop\n",
      "17 i am inside a loop\n",
      "Done\n"
     ]
    }
   ],
   "source": [
    "i=1\n",
    "while True:\n",
    "    if i%17==0:\n",
    "        break\n",
    "        print(\"Break\")\n",
    "    else:\n",
    "        \n",
    "        i+=1\n",
    "    print(i,\"i am inside a loop\")\n",
    "print(\"Done\")"
   ]
  },
  {
   "cell_type": "code",
   "execution_count": 16,
   "id": "9b30fa98-74c4-4295-aff0-afa78b3265b0",
   "metadata": {},
   "outputs": [
    {
     "name": "stdin",
     "output_type": "stream",
     "text": [
      "Enter a no. whose table you want to print 5\n"
     ]
    },
    {
     "name": "stdout",
     "output_type": "stream",
     "text": [
      "5 * 1 = 5\n",
      "5 * 2 = 10\n",
      "5 * 3 = 15\n",
      "5 * 4 = 20\n",
      "5 * 5 = 25\n",
      "5 * 6 = 30\n",
      "5 * 7 = 35\n",
      "5 * 8 = 40\n",
      "5 * 9 = 45\n",
      "5 * 10 = 50\n",
      "Done\n"
     ]
    }
   ],
   "source": [
    "n=int(input(\"Enter a no. whose table you want to print\"))\n",
    "i=1\n",
    "\n",
    "while i<11:\n",
    "        print(n,\"*\",i,\"=\",n*i)\n",
    "        i+=1\n",
    "print(\"Done\")"
   ]
  },
  {
   "cell_type": "code",
   "execution_count": 17,
   "id": "9af78a3a-ce13-4b94-91c3-68e70ff8ce0d",
   "metadata": {},
   "outputs": [
    {
     "name": "stdout",
     "output_type": "stream",
     "text": [
      "1 inside if\n",
      "2 inside if\n",
      "3 inside if\n",
      "4 inside if\n",
      "5 inside if\n",
      "6 inside if\n",
      "7 inside if\n",
      "8 inside if\n",
      "Something\n",
      "Done\n"
     ]
    }
   ],
   "source": [
    "n=10\n",
    "i=1\n",
    "while True:\n",
    "    if i%9 !=0:\n",
    "        print(i,\"inside if\")\n",
    "        i+=1\n",
    "        continue\n",
    "    print(\"Something\")\n",
    "    break\n",
    "print(\"Done\")"
   ]
  },
  {
   "cell_type": "markdown",
   "id": "e29ced80-072d-4daa-bb9d-06fbf47c43aa",
   "metadata": {},
   "source": [
    "# For Loop"
   ]
  },
  {
   "cell_type": "code",
   "execution_count": 22,
   "id": "88012823-1a1f-47b7-9bcb-a3e98e08a3a4",
   "metadata": {},
   "outputs": [
    {
     "name": "stdout",
     "output_type": "stream",
     "text": [
      "1\n",
      "3\n",
      "5\n",
      "7\n",
      "9\n",
      "[0, 4, 16, 36, 64]\n"
     ]
    }
   ],
   "source": [
    "l=[]\n",
    "for i in range (0,10,2):\n",
    "    print(i+1)\n",
    "    l.append(i**2)\n",
    "print(l)"
   ]
  },
  {
   "cell_type": "markdown",
   "id": "228ebe43-4fc1-41d5-9dbe-5d2385de9305",
   "metadata": {},
   "source": [
    "# else in for loop"
   ]
  },
  {
   "cell_type": "code",
   "execution_count": 34,
   "id": "ff5c32b0-e198-4865-af67-b20dd7f85206",
   "metadata": {},
   "outputs": [
    {
     "name": "stdout",
     "output_type": "stream",
     "text": [
      "Apple\n",
      "22.2\n",
      "inside if\n"
     ]
    }
   ],
   "source": [
    "S={\"Apple\",22.2,\"Om\"}\n",
    "x=1\n",
    "for i in S:\n",
    "    print(i)\n",
    "    x+=1\n",
    "    if x==3:\n",
    "        print(\"inside if\")\n",
    "        break\n",
    "    else :\n",
    "        pass\n",
    "else:\n",
    "    print(\"S is Over\")"
   ]
  },
  {
   "cell_type": "code",
   "execution_count": 38,
   "id": "55ca283c-2e7d-4e70-aee0-443602af5a9a",
   "metadata": {},
   "outputs": [
    {
     "name": "stdout",
     "output_type": "stream",
     "text": [
      "[-5, 1, 2, 2, 3, 4, 7, 9]\n"
     ]
    }
   ],
   "source": [
    "\"\"\"Rearrange the array in proper format from [1,2,4,-5,7,9,3,2] to sorted arrar [-5,1,2,2,3,4,7,9]\n",
    "\"\"\"\n",
    "\n",
    "L=[1,2,4,-5,7,9,3,2]\n",
    "for j in range(len(L)):\n",
    "    m=L[j]\n",
    "    idx=j\n",
    "    c=j \n",
    "    for i in range (j,len(L)):\n",
    "        if L[i]<m:\n",
    "            m=L[i]\n",
    "            idx=c\n",
    "        c+=1\n",
    "    tmp=L[j]\n",
    "    L[j]=m\n",
    "    L[idx]=tmp\n",
    "print(L)"
   ]
  },
  {
   "cell_type": "markdown",
   "id": "9ec529ef-7f55-4d3f-bc8c-46a17644bd7f",
   "metadata": {},
   "source": [
    "# Functions\n"
   ]
  },
  {
   "cell_type": "code",
   "execution_count": 39,
   "id": "25c84ff1-0daf-4327-9535-297c67f33617",
   "metadata": {},
   "outputs": [],
   "source": [
    "def printSuccess(a,b):\n",
    "    print(\"Hello World\")\n",
    "    print(a+b)"
   ]
  },
  {
   "cell_type": "code",
   "execution_count": 42,
   "id": "290ecbaf-965d-4e4a-948c-9da500a17212",
   "metadata": {},
   "outputs": [
    {
     "name": "stdout",
     "output_type": "stream",
     "text": [
      "Hello World\n",
      "3\n"
     ]
    }
   ],
   "source": [
    "printSuccess(1,2)"
   ]
  },
  {
   "cell_type": "code",
   "execution_count": 50,
   "id": "2428a871-ab63-440c-b001-8f447b5555ef",
   "metadata": {},
   "outputs": [],
   "source": [
    "#           this function is to check if the entered message is in string or not if not then is in which type\n",
    "def printMsg(Msg):\n",
    "    if isinstance(Msg,str):\n",
    "        print('\"',Msg,'\"',\"This Message is in string\")\n",
    "    else:\n",
    "        print(\"The message is not a string\")\n",
    "        print(\"The message is in :\",type(Msg))"
   ]
  },
  {
   "cell_type": "code",
   "execution_count": 54,
   "id": "af597ef4-4b17-448c-9681-adcd3e054e7b",
   "metadata": {},
   "outputs": [
    {
     "name": "stdout",
     "output_type": "stream",
     "text": [
      "The message is not a string\n",
      "The message is in : <class 'int'>\n",
      "\" this is the message \" This Message is in string\n",
      "The message is not a string\n",
      "The message is in : <class 'int'>\n"
     ]
    }
   ],
   "source": [
    "printMsg(55)\n",
    "printMsg(\"this is the message\")\n",
    "y=22\n",
    "printMsg(y)"
   ]
  },
  {
   "cell_type": "code",
   "execution_count": 60,
   "id": "07b50309-f425-45ca-b14e-9edb62b7c155",
   "metadata": {},
   "outputs": [],
   "source": [
    "def checkArgs(a,b,c):\n",
    "    if isinstance(a,(int,float)) and isinstance(b,(int,float)) and isinstance(c,(int,float)):\n",
    "        print((a+b+c)/2)\n",
    "    else:\n",
    "        print(\"The number that you have entered dont follow the requirements\")"
   ]
  },
  {
   "cell_type": "code",
   "execution_count": 61,
   "id": "2766b14c-2360-44ce-ac08-d898016ecafd",
   "metadata": {},
   "outputs": [
    {
     "name": "stdout",
     "output_type": "stream",
     "text": [
      "7.5\n"
     ]
    }
   ],
   "source": [
    "checkArgs(4,5,6)"
   ]
  },
  {
   "cell_type": "code",
   "execution_count": 63,
   "id": "1150a795-cf5f-425c-bcdd-0c00e6a8ae45",
   "metadata": {},
   "outputs": [
    {
     "ename": "TypeError",
     "evalue": "checkArgs() missing 1 required positional argument: 'c'",
     "output_type": "error",
     "traceback": [
      "\u001b[1;31m---------------------------------------------------------------------------\u001b[0m",
      "\u001b[1;31mTypeError\u001b[0m                                 Traceback (most recent call last)",
      "Cell \u001b[1;32mIn[63], line 1\u001b[0m\n\u001b[1;32m----> 1\u001b[0m \u001b[43mcheckArgs\u001b[49m\u001b[43m(\u001b[49m\u001b[38;5;241;43m4\u001b[39;49m\u001b[43m,\u001b[49m\u001b[38;5;241;43m5\u001b[39;49m\u001b[43m,\u001b[49m\u001b[43m)\u001b[49m\n",
      "\u001b[1;31mTypeError\u001b[0m: checkArgs() missing 1 required positional argument: 'c'"
     ]
    }
   ],
   "source": [
    "checkArgs(4,5,)"
   ]
  }
 ],
 "metadata": {
  "kernelspec": {
   "display_name": "Python 3 (ipykernel)",
   "language": "python",
   "name": "python3"
  },
  "language_info": {
   "codemirror_mode": {
    "name": "ipython",
    "version": 3
   },
   "file_extension": ".py",
   "mimetype": "text/x-python",
   "name": "python",
   "nbconvert_exporter": "python",
   "pygments_lexer": "ipython3",
   "version": "3.12.4"
  }
 },
 "nbformat": 4,
 "nbformat_minor": 5
}
